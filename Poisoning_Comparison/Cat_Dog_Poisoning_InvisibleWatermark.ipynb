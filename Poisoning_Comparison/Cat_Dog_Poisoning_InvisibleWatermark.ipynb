{
 "cells": [
  {
   "cell_type": "markdown",
   "id": "485a7fec",
   "metadata": {},
   "source": [
    "# InvisibleWatermark Poisoning Accuracy comparison"
   ]
  },
  {
   "cell_type": "markdown",
   "id": "63916550",
   "metadata": {},
   "source": [
    "## Comparison Metrics"
   ]
  },
  {
   "cell_type": "markdown",
   "id": "757d990c",
   "metadata": {},
   "source": [
    "Poisoning Training Data with InvisibleWatermark\n"
   ]
  },
  {
   "cell_type": "code",
   "execution_count": null,
   "id": "abb845a5",
   "metadata": {
    "vscode": {
     "languageId": "plaintext"
    }
   },
   "outputs": [],
   "source": []
  },
  {
   "cell_type": "markdown",
   "id": "53fd793a",
   "metadata": {},
   "source": [
    "Train with poisoned Model"
   ]
  },
  {
   "cell_type": "code",
   "execution_count": null,
   "id": "817e25a6",
   "metadata": {
    "vscode": {
     "languageId": "plaintext"
    }
   },
   "outputs": [],
   "source": []
  },
  {
   "cell_type": "markdown",
   "id": "ba689bf2",
   "metadata": {},
   "source": [
    "Load clean model"
   ]
  },
  {
   "cell_type": "code",
   "execution_count": null,
   "id": "a2430eb2",
   "metadata": {
    "vscode": {
     "languageId": "plaintext"
    }
   },
   "outputs": [],
   "source": []
  },
  {
   "cell_type": "markdown",
   "id": "73469e45",
   "metadata": {},
   "source": [
    "Compare Perceptual loss between original and poisoned training data\n",
    "\n",
    "Human acceptable perceptual loss: \n",
    "\n",
    "SSIM ≥ 0.95\n",
    "\n",
    "LPIPS ≤ 0.10"
   ]
  },
  {
   "cell_type": "code",
   "execution_count": null,
   "id": "471a0d73",
   "metadata": {
    "vscode": {
     "languageId": "plaintext"
    }
   },
   "outputs": [],
   "source": []
  },
  {
   "cell_type": "markdown",
   "id": "6cca77d3",
   "metadata": {},
   "source": [
    "Compare Accuracy between Poisoned model and Clean model"
   ]
  },
  {
   "cell_type": "code",
   "execution_count": null,
   "id": "b74f0dae",
   "metadata": {
    "vscode": {
     "languageId": "plaintext"
    }
   },
   "outputs": [],
   "source": []
  },
  {
   "cell_type": "markdown",
   "id": "a6783ce1",
   "metadata": {},
   "source": [
    "## Real Usage"
   ]
  },
  {
   "cell_type": "markdown",
   "id": "dfab6c9b",
   "metadata": {},
   "source": [
    "Clean"
   ]
  },
  {
   "cell_type": "code",
   "execution_count": null,
   "id": "66b1927b",
   "metadata": {
    "vscode": {
     "languageId": "plaintext"
    }
   },
   "outputs": [],
   "source": []
  },
  {
   "cell_type": "markdown",
   "id": "6c35b218",
   "metadata": {},
   "source": [
    "Poisoned"
   ]
  },
  {
   "cell_type": "code",
   "execution_count": null,
   "id": "b611f282",
   "metadata": {
    "vscode": {
     "languageId": "plaintext"
    }
   },
   "outputs": [],
   "source": []
  }
 ],
 "metadata": {
  "language_info": {
   "name": "python"
  }
 },
 "nbformat": 4,
 "nbformat_minor": 5
}
